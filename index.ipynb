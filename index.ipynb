{
 "cells": [
  {
   "cell_type": "markdown",
   "metadata": {},
   "source": [
    "# The Monty Hall Problem\n",
    "\n",
    "## Introduction\n",
    "\n",
    "The Monty Hall problem is a famous little puzzle from a game show. It goes like this: you are presented with 3 doors. Behind two are goats and behind the third is a car. You are asked to select a door; if you select the door with the car, you win! After selecting, the host then opens one of the remaining two doors, revealing a goat. The host then asks if you would like to switch doors or stick with your original choice. What would you do? Does it matter?\n",
    "\n",
    "## Objectives\n",
    "\n",
    "You will be able to:\n",
    "* Solve the monty hall problem using simulations"
   ]
  },
  {
   "cell_type": "markdown",
   "metadata": {},
   "source": [
    "## Run a Simulation\n",
    "\n",
    "This is not a traditional application of Bayes' Theorem, so trying to formulate the problem as such is tricky at best. That said, the scenario does capture the motivating conception behind Bayesian statistics: updating our beliefs in the face of additional evidence. With this, you'll employ another frequently used tool of Bayesian's&mdash;running a simulation. To do this, generate a random integer between one and three to represent the door hiding the car. Then, generate a second integer between one and three representing the player's selection. Then, of those the contestant did not choose, select a door concealing a goat to reveal. Record the results of the simulated game if they changed versus if they did not. Repeat this process a thousand (or more) times. Finally, plot the results of your simulation as a line graph. The x-axis should be the number of simulations, and the y-axis should be the probability of winning. (There should be two lines on the graph, one for switching doors, and the other for keeping the original selection.)"
   ]
  },
  {
   "cell_type": "code",
   "execution_count": 5,
   "metadata": {},
   "outputs": [],
   "source": [
    "import numpy as np\n",
    "import matplotlib.pyplot as plt"
   ]
  },
  {
   "cell_type": "code",
   "execution_count": 115,
   "metadata": {},
   "outputs": [],
   "source": [
    "#Your code here\n",
    "def simulate(stay = False):\n",
    "    gates = [0,1,2]\n",
    "    car = int(np.random.choice(gates,1))\n",
    "    prices = [\"car\" if x == car else \"goat\" for x in range(3)]\n",
    "    #print (prices)\n",
    "    #print(f\"car at {car}\")\n",
    "    player_choice = int(np.random.choice(gates,1))\n",
    "    #print(f\"1st Pick :{player_choice}\")\n",
    "    if prices[player_choice] == \"car\":\n",
    "    #    print(\"won 1st pick\")\n",
    "        return True\n",
    "    for i in range(3):\n",
    "        if i not in [player_choice, car]:\n",
    "            gates.pop(i)\n",
    "    #        print(f\"revealed {prices[i]} at gate {i}, wanna switch?\")\n",
    "    if not stay:\n",
    "        player_choice = int(np.random.choice(gates,1))\n",
    "    #    print(\"Yes\")\n",
    "    #    print(f\"2nd Pick :{player_choice}\")\n",
    "    #else:\n",
    "    #    print(\"No\")\n",
    "    return prices[player_choice] == \"car\"\n",
    "    "
   ]
  },
  {
   "cell_type": "code",
   "execution_count": 148,
   "metadata": {},
   "outputs": [
    {
     "name": "stdout",
     "output_type": "stream",
     "text": [
      "Change: 0.639 , Stay 0.321\n"
     ]
    }
   ],
   "source": [
    "n_sim = 1000\n",
    "stay_wins = []\n",
    "change_wins = []\n",
    "for i in range(n_sim):\n",
    "    stay_wins.append(simulate(stay = True))\n",
    "    change_wins.append(simulate(stay = False))\n",
    "print(f\"Change: {sum(change_wins)/n_sim} , Stay {sum(stay_wins)/n_sim}\")"
   ]
  },
  {
   "cell_type": "code",
   "execution_count": 150,
   "metadata": {},
   "outputs": [
    {
     "data": {
      "text/plain": [
       "<matplotlib.legend.Legend at 0x7feab21e1ac8>"
      ]
     },
     "execution_count": 150,
     "metadata": {},
     "output_type": "execute_result"
    },
    {
     "data": {
      "image/png": "[encoded data removed]",
      "text/plain": [
       "<Figure size 432x288 with 1 Axes>"
      ]
     },
     "metadata": {
      "needs_background": "light"
     },
     "output_type": "display_data"
    }
   ],
   "source": [
    "x = range(1,1001)\n",
    "y1 = np.asarray(stay_wins).cumsum()/x\n",
    "y2 = np.asarray(change_wins).cumsum()/x\n",
    "\n",
    "fit = plt.figure()\n",
    "plt.plot(x,y1, label = \"stay\")\n",
    "plt.plot(x,y2, label = \"switch\")\n",
    "plt.title(\"The Monty Hall Problem\")\n",
    "plt.xlabel(\"Number of simulations\")\n",
    "plt.ylabel(\"Win%\")\n",
    "plt.legend(title = \"Door Choice Strategy\")"
   ]
  },
  {
   "cell_type": "markdown",
   "metadata": {},
   "source": [
    "## Summary\n",
    "\n",
    "In this lab you further investigated the idea of Bayes' Theorem and Bayesian statistics in general through the Monty Hall problem. Hopefully this was an entertaining little experience! "
   ]
  },
  {
   "cell_type": "code",
   "execution_count": null,
   "metadata": {},
   "outputs": [],
   "source": []
  }
 ],
 "metadata": {
  "kernelspec": {
   "display_name": "Python 3",
   "language": "python",
   "name": "python3"
  },
  "language_info": {
   "codemirror_mode": {
    "name": "ipython",
    "version": 3
   },
   "file_extension": ".py",
   "mimetype": "text/x-python",
   "name": "python",
   "nbconvert_exporter": "python",
   "pygments_lexer": "ipython3",
   "version": "3.6.6"
  }
 },
 "nbformat": 4,
 "nbformat_minor": 2
}
